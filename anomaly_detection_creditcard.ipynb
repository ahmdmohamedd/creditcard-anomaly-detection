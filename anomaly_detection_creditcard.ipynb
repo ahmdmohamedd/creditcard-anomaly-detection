{
 "cells": [
  {
   "cell_type": "code",
   "execution_count": null,
   "id": "c2048b2d-2b39-4c5b-9931-3b039bac066a",
   "metadata": {},
   "outputs": [],
   "source": [
    "# Import necessary libraries\n",
    "import numpy as np\n",
    "import pandas as pd\n",
    "from sklearn.model_selection import train_test_split\n",
    "from sklearn.preprocessing import StandardScaler\n",
    "from sklearn.metrics import average_precision_score\n",
    "from sklearn.ensemble import IsolationForest\n",
    "from sklearn.neighbors import LocalOutlierFactor\n",
    "from sklearn.svm import OneClassSVM\n",
    "from sklearn.ensemble import RandomForestClassifier\n",
    "import tensorflow as tf\n",
    "from tensorflow.keras.models import Sequential\n",
    "from tensorflow.keras.layers import Dense\n",
    "from tensorflow.keras import regularizers"
   ]
  },
  {
   "cell_type": "code",
   "execution_count": null,
   "id": "0741ff93-ebb3-4f65-87bc-36be594cd10a",
   "metadata": {},
   "outputs": [],
   "source": [
    "import pandas as pd\n",
    "from sklearn.model_selection import train_test_split\n",
    "from sklearn.preprocessing import StandardScaler\n",
    "\n",
    "# Load the dataset (assuming creditcard.csv is in the working directory)\n",
    "data = pd.read_csv('creditcard.csv')\n",
    "\n",
    "# Split into features (X) and labels (y)\n",
    "X = data.drop('Class', axis=1)  # 'Class' is the column with labels (0 for normal, 1 for fraud)\n",
    "y = data['Class']  # The label column\n",
    "\n",
    "# Split into training and test sets\n",
    "X_train_sample, X_test_sample, y_train_sample, y_test_sample = train_test_split(X, y, test_size=0.2, random_state=42)\n",
    "\n",
    "# Rescale the features\n",
    "scaler = StandardScaler()\n",
    "X_train_scaled = scaler.fit_transform(X_train_sample)\n",
    "X_test_scaled = scaler.transform(X_test_sample)\n",
    "\n",
    "print(\"Training data and labels loaded and preprocessed successfully!\")\n"
   ]
  },
  {
   "cell_type": "code",
   "execution_count": null,
   "id": "99ef187a-631f-4f06-b1fe-910869ab3850",
   "metadata": {},
   "outputs": [],
   "source": [
    "# Isolation Forest model\n",
    "print(\"Training Isolation Forest...\")\n",
    "iso_forest = IsolationForest(n_estimators=100, contamination=0.05, random_state=42)\n",
    "iso_forest.fit(X_train_scaled)\n",
    "\n",
    "# Predict anomalies (-1 for anomaly, 1 for normal)\n",
    "y_pred_if = iso_forest.predict(X_train_scaled)\n",
    "y_pred_if = [1 if p == -1 else 0 for p in y_pred_if]\n",
    "\n",
    "# Calculate Average Precision Score for Isolation Forest\n",
    "avg_precision_if = average_precision_score(y_train_sample, y_pred_if)\n",
    "print(f\"Isolation Forest Average Precision Score: {avg_precision_if:.4f}\")\n",
    "\n",
    "# Show sample predictions for Isolation Forest\n",
    "print(\"Sample Isolation Forest Predictions (first 10):\", y_pred_if[:10])"
   ]
  },
  {
   "cell_type": "code",
   "execution_count": null,
   "id": "e7ca5baa-7da1-4bb4-855a-fd453c314799",
   "metadata": {},
   "outputs": [],
   "source": [
    "# Local Outlier Factor model\n",
    "print(\"Training Local Outlier Factor (LOF)...\")\n",
    "lof = LocalOutlierFactor(n_neighbors=20, contamination=0.05)\n",
    "y_pred_lof = lof.fit_predict(X_train_scaled)\n",
    "y_pred_lof = [1 if p == -1 else 0 for p in y_pred_lof]\n",
    "\n",
    "# Calculate Average Precision Score for LOF\n",
    "avg_precision_lof = average_precision_score(y_train_sample, y_pred_lof)\n",
    "print(f\"LOF Average Precision Score: {avg_precision_lof:.4f}\")\n",
    "\n",
    "# Show sample predictions for LOF\n",
    "print(\"Sample LOF Predictions (first 10):\", y_pred_lof[:10])"
   ]
  },
  {
   "cell_type": "code",
   "execution_count": null,
   "id": "957eec95-c647-4c8a-93c2-b1837a2493f3",
   "metadata": {},
   "outputs": [],
   "source": [
    "# One-Class SVM model\n",
    "print(\"Training One-Class SVM...\")\n",
    "ocsvm = OneClassSVM(nu=0.05, kernel='rbf', gamma='scale')\n",
    "ocsvm.fit(X_train_scaled)\n",
    "\n",
    "# Predict anomalies (1 for normal, -1 for anomaly)\n",
    "y_pred_ocsvm = ocsvm.predict(X_train_scaled)\n",
    "y_pred_ocsvm = [1 if p == -1 else 0 for p in y_pred_ocsvm]\n",
    "\n",
    "# Calculate Average Precision Score for One-Class SVM\n",
    "avg_precision_ocsvm = average_precision_score(y_train_sample, y_pred_ocsvm)\n",
    "print(f\"One-Class SVM Average Precision Score: {avg_precision_ocsvm:.4f}\")\n",
    "\n",
    "# Show sample predictions for One-Class SVM\n",
    "print(\"Sample One-Class SVM Predictions (first 10):\", y_pred_ocsvm[:10])"
   ]
  },
  {
   "cell_type": "code",
   "execution_count": null,
   "id": "fafbaa04-c2e8-4344-bde7-bd18dba5f3a5",
   "metadata": {},
   "outputs": [],
   "source": [
    "# Random Forest Classifier model (assuming balanced dataset)\n",
    "print(\"Training Random Forest Classifier...\")\n",
    "rf_clf = RandomForestClassifier(n_estimators=150, max_features=1.0, random_state=42)\n",
    "rf_clf.fit(X_train_scaled, y_train_sample)\n",
    "\n",
    "# Predict anomalies\n",
    "y_pred_rf = rf_clf.predict(X_train_scaled)\n",
    "y_pred_rf = [1 if p == 1 else 0 for p in y_pred_rf]  # Adjust prediction mapping\n",
    "\n",
    "# Calculate Average Precision Score for Random Forest\n",
    "avg_precision_rf = average_precision_score(y_train_sample, y_pred_rf)\n",
    "print(f\"Random Forest Classifier Average Precision Score: {avg_precision_rf:.4f}\")\n",
    "\n",
    "# Show sample predictions for Random Forest Classifier\n",
    "print(\"Sample Random Forest Classifier Predictions (first 10):\", y_pred_rf[:10])"
   ]
  },
  {
   "cell_type": "code",
   "execution_count": null,
   "id": "9a3582ed-1c2d-4451-b321-7f16b2adc370",
   "metadata": {},
   "outputs": [],
   "source": [
    "# Build Autoencoder model for anomaly detection\n",
    "print(\"Training Autoencoder Model...\")\n",
    "\n",
    "autoencoder = Sequential()\n",
    "autoencoder.add(Dense(64, activation='relu', input_dim=X_train_scaled.shape[1], \n",
    "                      activity_regularizer=regularizers.l2(0.001)))\n",
    "autoencoder.add(Dense(32, activation='relu'))\n",
    "autoencoder.add(Dense(16, activation='relu'))\n",
    "autoencoder.add(Dense(32, activation='relu'))\n",
    "autoencoder.add(Dense(64, activation='relu'))\n",
    "autoencoder.add(Dense(X_train_scaled.shape[1], activation='sigmoid'))\n",
    "\n",
    "autoencoder.compile(optimizer='adam', loss='mse')\n",
    "\n",
    "# Train the Autoencoder\n",
    "autoencoder.fit(X_train_scaled, X_train_scaled, epochs=50, batch_size=256, shuffle=True, validation_split=0.1)\n",
    "\n",
    "# Predict reconstruction errors\n",
    "reconstructions = autoencoder.predict(X_train_scaled)\n",
    "reconstruction_error = np.mean(np.abs(reconstructions - X_train_scaled), axis=1)\n",
    "\n",
    "# Set an anomaly threshold based on the reconstruction error\n",
    "threshold = np.percentile(reconstruction_error, 95)  # This is a common heuristic for anomaly detection\n",
    "y_pred_autoencoder = [1 if e > threshold else 0 for e in reconstruction_error]\n",
    "\n",
    "# Calculate Average Precision Score for Autoencoder\n",
    "avg_precision_autoencoder = average_precision_score(y_train_sample, y_pred_autoencoder)\n",
    "print(f\"Autoencoder Average Precision Score: {avg_precision_autoencoder:.4f}\")\n",
    "\n",
    "# Show sample predictions for Autoencoder\n",
    "print(\"Sample Autoencoder Predictions (first 10):\", y_pred_autoencoder[:10])"
   ]
  },
  {
   "cell_type": "code",
   "execution_count": null,
   "id": "2acd9633-f17e-4876-b8f2-e3ac3268735e",
   "metadata": {},
   "outputs": [],
   "source": [
    "# Print all results in a summary\n",
    "print(\"\\n--- Model Performance Summary ---\")\n",
    "print(f\"Isolation Forest Average Precision Score: {avg_precision_if:.4f}\")\n",
    "print(f\"LOF Average Precision Score: {avg_precision_lof:.4f}\")\n",
    "print(f\"One-Class SVM Average Precision Score: {avg_precision_ocsvm:.4f}\")\n",
    "print(f\"Random Forest Classifier Average Precision Score: {avg_precision_rf:.4f}\")\n",
    "print(f\"Autoencoder Average Precision Score: {avg_precision_autoencoder:.4f}\")"
   ]
  }
 ],
 "metadata": {
  "kernelspec": {
   "display_name": "Python 3 (ipykernel)",
   "language": "python",
   "name": "python3"
  },
  "language_info": {
   "codemirror_mode": {
    "name": "ipython",
    "version": 3
   },
   "file_extension": ".py",
   "mimetype": "text/x-python",
   "name": "python",
   "nbconvert_exporter": "python",
   "pygments_lexer": "ipython3",
   "version": "3.9.18"
  }
 },
 "nbformat": 4,
 "nbformat_minor": 5
}
